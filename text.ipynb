{
 "cells": [
  {
   "cell_type": "code",
   "execution_count": 2,
   "metadata": {},
   "outputs": [],
   "source": [
    "import pandas as pd\n",
    "import os\n",
    "import requests\n",
    "from datetime import datetime, timedelta\n",
    "import requests\n",
    "from bs4 import BeautifulSoup as bs\n",
    "import data.publisher as pb\n",
    "import data.temp as temp\n",
    "import json\n",
    "import data.tools as tools"
   ]
  },
  {
   "cell_type": "code",
   "execution_count": 16,
   "metadata": {},
   "outputs": [
    {
     "data": {
      "text/plain": [
       "{'title': '민주당 권인숙, 국회 본회의 중 스마트폰 게임…\"반성한다\"',\n",
       " 'time': '2022-11-11 00:31:01',\n",
       " 'press': '데일리안',\n",
       " 'contents': '10일 뉴데일리에 따르면  이날 오후 본회의에 참석한 권 의원은 본회의가 산회될 때까지 스마트폰으로 체스 게임을 즐겼다. 특히 이날 본회의는 민주당이 이태원 참사 국정조사 요구서를 보고하는 엄중한 자리였다는 점에서 적절치 못했다는 지적이다. 더구나 권 의원은 법무부가 이태원 참사를 불의의 사고라고 표현하자 \"사고라는 표현이 잘못됐다\"고 강하게 비판할 정도로 사안을 무겁게 여겼던 인사다. 논란이 일자 권 의원은 이날 오후 입장문을 내고 \"부의장 (선거) 개표를 기다리며 게임을 시작한 것은 잘못한 일\"이라며 \"반성한다\"고 했다.',\n",
       " 'img': 'https://imgnews.pstatic.net/image/119/2022/11/11/0002656834_001_20221111003101286.jpeg?type=w647',\n",
       " 'reporter': '정계성'}"
      ]
     },
     "execution_count": 16,
     "metadata": {},
     "output_type": "execute_result"
    }
   ],
   "source": [
    "tools.get_title_contents(\"https://n.news.naver.com/mnews/article/119/0002656834?sid=100\")"
   ]
  },
  {
   "cell_type": "code",
   "execution_count": 8,
   "metadata": {},
   "outputs": [],
   "source": [
    "import data.tools as tools\n",
    "from bs4 import BeautifulSoup as bs\n",
    "import pandas as pd\n",
    "import json\n",
    "import data.tools as tools\n",
    "\n",
    "daum=\"https://news.daum.net\"\n",
    "soup=tools.soup_page(daum)\n",
    "\n",
    "count=10\n",
    "\n",
    "articles=[]\n",
    "\n",
    "for i in range(count):\n",
    "    article={ \n",
    "        \"link\":soup.select(\".item_issue > a\")[i].get(\"href\"),\n",
    "        \"logo\":soup.select(\".item_issue > a >img\")[i].get(\"src\"),\n",
    "        \"thumbnail\":soup.select(\".logo_cp >img\")[i].get(\"src\"),\n",
    "        \"category\":soup.select(\".txt_category\")[i].text,\n",
    "        \"title\":soup.select(\".link_txt\")[0].text.strip()\n",
    "    }\n",
    "    articles.append(article)\n"
   ]
  },
  {
   "cell_type": "code",
   "execution_count": 15,
   "metadata": {},
   "outputs": [],
   "source": [
    "articles=[soup.select(\".item_issue > a >img\")[i].get(\"src\") for i in range(count)]"
   ]
  },
  {
   "cell_type": "code",
   "execution_count": 24,
   "metadata": {},
   "outputs": [],
   "source": [
    "daum=\"https://news.daum.net\"\n",
    "soup=tools.soup_page(daum)\n",
    "count=10\n",
    "articles=[]\n",
    "links=[soup.select(\".item_issue > a >img\")[i].get(\"src\") for i in range(count)]\n",
    "for i in links:\n",
    "    articles.append(tools.get_title_contents(i))"
   ]
  },
  {
   "cell_type": "code",
   "execution_count": 31,
   "metadata": {},
   "outputs": [],
   "source": [
    "tools.daily_news_grab()"
   ]
  },
  {
   "cell_type": "code",
   "execution_count": 28,
   "metadata": {},
   "outputs": [
    {
     "name": "stdout",
     "output_type": "stream",
     "text": [
      "None\n"
     ]
    }
   ],
   "source": [
    "print(tools.get_title_contents(links[1]))"
   ]
  },
  {
   "cell_type": "markdown",
   "metadata": {},
   "source": [
    "tools.get_title_contents()"
   ]
  },
  {
   "cell_type": "code",
   "execution_count": 25,
   "metadata": {},
   "outputs": [
    {
     "data": {
      "text/plain": [
       "[None, None, None, None, None, None, None, None, None, None]"
      ]
     },
     "execution_count": 25,
     "metadata": {},
     "output_type": "execute_result"
    }
   ],
   "source": [
    "articles"
   ]
  },
  {
   "cell_type": "code",
   "execution_count": 18,
   "metadata": {},
   "outputs": [],
   "source": [
    "articles1=[tools.get_title_contents(i) for i in articles]"
   ]
  },
  {
   "cell_type": "code",
   "execution_count": 19,
   "metadata": {},
   "outputs": [
    {
     "data": {
      "text/plain": [
       "[None, None, None, None, None, None, None, None, None, None]"
      ]
     },
     "execution_count": 19,
     "metadata": {},
     "output_type": "execute_result"
    }
   ],
   "source": [
    "articles1"
   ]
  },
  {
   "cell_type": "code",
   "execution_count": 14,
   "metadata": {},
   "outputs": [
    {
     "data": {
      "text/plain": [
       "[None, None, None, None, None, None, None, None, None, None]"
      ]
     },
     "execution_count": 14,
     "metadata": {},
     "output_type": "execute_result"
    }
   ],
   "source": [
    "articles"
   ]
  },
  {
   "cell_type": "code",
   "execution_count": 4,
   "metadata": {},
   "outputs": [],
   "source": [
    "\n",
    "list_1 =[i[\"link\"] for i in articles]"
   ]
  },
  {
   "cell_type": "code",
   "execution_count": 6,
   "metadata": {},
   "outputs": [
    {
     "data": {
      "text/plain": [
       "['https://v.daum.net/v/20221111000201572',\n",
       " 'https://v.daum.net/v/20221111000155571',\n",
       " 'https://v.daum.net/v/20221111000317615',\n",
       " 'https://v.daum.net/v/20221111000457653',\n",
       " 'https://v.daum.net/v/20221110234954466',\n",
       " 'https://v.daum.net/v/20221111000445649',\n",
       " 'https://v.daum.net/v/20221111000441646',\n",
       " 'https://v.daum.net/v/20221110233600396',\n",
       " 'https://v.daum.net/v/20221110235623491',\n",
       " 'https://v.daum.net/v/20221110234518446']"
      ]
     },
     "execution_count": 6,
     "metadata": {},
     "output_type": "execute_result"
    }
   ],
   "source": [
    "list_1"
   ]
  },
  {
   "cell_type": "code",
   "execution_count": 22,
   "metadata": {},
   "outputs": [
    {
     "name": "stdout",
     "output_type": "stream",
     "text": [
      "None\n"
     ]
    }
   ],
   "source": [
    "print(tools.daily_news_grab())"
   ]
  },
  {
   "cell_type": "code",
   "execution_count": 41,
   "metadata": {},
   "outputs": [],
   "source": [
    "class_name=pb.news[0]"
   ]
  },
  {
   "cell_type": "code",
   "execution_count": 40,
   "metadata": {},
   "outputs": [
    {
     "data": {
      "text/plain": [
       "'악수하는 이정미 대표와 정진석 비상대책위원장'"
      ]
     },
     "execution_count": 40,
     "metadata": {},
     "output_type": "execute_result"
    }
   ],
   "source": [
    "soup.select_one(pb.news[0][\"title\"]).text\n"
   ]
  },
  {
   "cell_type": "code",
   "execution_count": 42,
   "metadata": {},
   "outputs": [
    {
     "data": {
      "text/plain": [
       "'악수하는 이정미 대표와 정진석 비상대책위원장'"
      ]
     },
     "execution_count": 42,
     "metadata": {},
     "output_type": "execute_result"
    }
   ],
   "source": [
    "soup.select_one(class_name[\"title\"]).text"
   ]
  },
  {
   "cell_type": "code",
   "execution_count": 45,
   "metadata": {},
   "outputs": [],
   "source": [
    "contents_text = str(soup.select_one(class_name[\"contents\"]))\n",
    "contents_text=[i for i in contents_text.split(\"<br/>\") if len(i) >1 and \"class=\" not in i and \"id=\"not in i and \"span\" not in i and \"strong\" not in i]\n",
    "new_news=[]\n",
    "remover=[\"\\n\",\"\\t\",\"</div>\",\"\\'\"]\n",
    "for i in range(len(contents_text)):\n",
    "    line=contents_text[i].strip()\n",
    "    for j in remover:\n",
    "        line=line.replace(j,\"\")\n",
    "    new_news.append(line)\n",
    "seperator=\",\"\n",
    "new_news=seperator.join(new_news)"
   ]
  },
  {
   "cell_type": "code",
   "execution_count": 46,
   "metadata": {},
   "outputs": [
    {
     "data": {
      "text/plain": [
       "'(서울=연합뉴스) 하사헌 기자 = 정의당 이정미 대표가 10일 오전 서울 여의도 국회에서 국민의힘 정진석 비상대책위원장을 예방해 악수하고 있다. 2022.11.10,toadboy@yna.co.kr,'"
      ]
     },
     "execution_count": 46,
     "metadata": {},
     "output_type": "execute_result"
    }
   ],
   "source": [
    "new_news"
   ]
  },
  {
   "cell_type": "code",
   "execution_count": 47,
   "metadata": {},
   "outputs": [
    {
     "data": {
      "text/plain": [
       "'연합뉴스'"
      ]
     },
     "execution_count": 47,
     "metadata": {},
     "output_type": "execute_result"
    }
   ],
   "source": [
    "soup.select_one(class_name[\"press\"][0]).get(class_name[\"press\"][1])"
   ]
  },
  {
   "cell_type": "code",
   "execution_count": 48,
   "metadata": {},
   "outputs": [
    {
     "data": {
      "text/plain": [
       "'https://imgnews.pstatic.net/image/001/2022/11/10/PYH2022111005620001301_P4_20221110103811966.jpg?type=w647'"
      ]
     },
     "execution_count": 48,
     "metadata": {},
     "output_type": "execute_result"
    }
   ],
   "source": [
    "soup.select_one(class_name[\"img\"][0]).get(class_name[\"img\"][1])"
   ]
  },
  {
   "cell_type": "code",
   "execution_count": 51,
   "metadata": {},
   "outputs": [
    {
     "data": {
      "text/plain": [
       "'하사헌 기자'"
      ]
     },
     "execution_count": 51,
     "metadata": {},
     "output_type": "execute_result"
    }
   ],
   "source": [
    "soup.select_one(class_name[\"reporter\"]).text"
   ]
  },
  {
   "cell_type": "code",
   "execution_count": null,
   "metadata": {},
   "outputs": [],
   "source": [
    "pb.news[1][\"contents\"]"
   ]
  },
  {
   "cell_type": "code",
   "execution_count": 61,
   "metadata": {},
   "outputs": [
    {
     "data": {
      "text/plain": [
       "'머니투데이'"
      ]
     },
     "execution_count": 61,
     "metadata": {},
     "output_type": "execute_result"
    }
   ],
   "source": [
    "soup.select_one(pb.news[1][\"press\"][0]).text"
   ]
  },
  {
   "cell_type": "code",
   "execution_count": 63,
   "metadata": {},
   "outputs": [
    {
     "data": {
      "text/plain": [
       "[]"
      ]
     },
     "execution_count": 63,
     "metadata": {},
     "output_type": "execute_result"
    }
   ],
   "source": [
    "contents_text"
   ]
  },
  {
   "cell_type": "markdown",
   "metadata": {},
   "source": []
  },
  {
   "cell_type": "code",
   "execution_count": 132,
   "metadata": {},
   "outputs": [],
   "source": [
    "time=soup.select_one(pb.news[1][\"time\"])\n"
   ]
  },
  {
   "cell_type": "code",
   "execution_count": 133,
   "metadata": {},
   "outputs": [
    {
     "data": {
      "text/plain": [
       "<span class=\"txt_info\">입력 <span class=\"num_date\">2022. 11. 9. 15:15</span></span>"
      ]
     },
     "execution_count": 133,
     "metadata": {},
     "output_type": "execute_result"
    }
   ],
   "source": [
    "time"
   ]
  },
  {
   "cell_type": "code",
   "execution_count": 123,
   "metadata": {},
   "outputs": [],
   "source": [
    "contents_text= [i.text.strip() for i in contents_text]"
   ]
  },
  {
   "cell_type": "code",
   "execution_count": 124,
   "metadata": {},
   "outputs": [
    {
     "data": {
      "text/plain": [
       "['2023학년도 대학수학능력시험이 오는 17일 치러지는 가운데, 코로나19에 확진된 수험생은 병원이 아닌 별도 시험장에서 시험을 볼 수 있습니다.',\n",
       " '확진자에 대한 7일의 격리 의무 기간을 고려해 오는 11일 이후 코로나19 확진 판정을 받은 수험생은 지체 없이 관할 교육청에 알려야 수능 응시에 필요한 지원을 받을 수 있습니다.',\n",
       " '당국은 일반 수험생과 분리된 별도 고사장을 마련해 따로 시험을 볼 수 있도록 했습니다.',\n",
       " '임숙영 방역대책본부 상황총괄단장은 오늘(9일) 코로나19 중앙재난안전대책본부 정례 브리핑에서 \"수능에 응시한 수험생은 확진을 받았다고 하더라도 시험을 볼 수 있다\"며 \"확진 수험생의 경우 별도로 마련된 고사장에서 시험을 본다\"고 밝혔습니다.',\n",
       " '수험생과 수험생 가족은 코로나19 의심 증상이 나타나면 즉시 인근 호흡기환자진료센터에 방문해 신속항원검사를 받아야 합니다.',\n",
       " '검사를 받을 때는 검사기관에 본인이 수능 응시생이라는 점을 알려야 합니다.',\n",
       " '만약 확진자 중 입원 치료가 필요한 수험생은 별도의 병원 시험장에서 시험을 볼 수 있습니다.',\n",
       " \"또 격리 대상은 아니지만 수능 당일 2~3차례 체온 검사에서 37.5도 이상 열이 나는 수험생의 경우엔 '유증상 수험생'으로 분류돼, 일반 시험장에 따로 마련된 분리 시험실에서 시험을 봐야 합니다.\",\n",
       " '모든 수험생은 마스크를 써야 하고 휴대전화나 블루투스 이어폰 등 전자기기 반입은 금지되는데, 반입 금지 물품을 가지고 들어간 경우 1교시 전 감독관에게 이를 제출해야 합니다.',\n",
       " '시계는 전자식 화면 표시나 통신 기능이 있는 것은 모두 사용할 수 없고, 아날로그 시계만 허용됩니다.',\n",
       " '점심시간에는 종이 칸막이를 직접 설치한 뒤 식사하면 됩니다.',\n",
       " '특히 4교시 탐구 영역 때는 본인이 선택한 과목을 순서대로 응시하면 되는데, 동시에 2과목 문제지를 올리거나 풀면 부정행위로 처리돼 주의해야 합니다.']"
      ]
     },
     "execution_count": 124,
     "metadata": {},
     "output_type": "execute_result"
    }
   ],
   "source": [
    "contents_text"
   ]
  },
  {
   "cell_type": "code",
   "execution_count": 125,
   "metadata": {},
   "outputs": [
    {
     "data": {
      "text/plain": [
       "'2023학년도 대학수학능력시험이 오는 17일 치러지는 가운데, 코로나19에 확진된 수험생은 병원이 아닌 별도 시험장에서 시험을 볼 수 있습니다.,확진자에 대한 7일의 격리 의무 기간을 고려해 오는 11일 이후 코로나19 확진 판정을 받은 수험생은 지체 없이 관할 교육청에 알려야 수능 응시에 필요한 지원을 받을 수 있습니다.,당국은 일반 수험생과 분리된 별도 고사장을 마련해 따로 시험을 볼 수 있도록 했습니다.,임숙영 방역대책본부 상황총괄단장은 오늘(9일) 코로나19 중앙재난안전대책본부 정례 브리핑에서 \"수능에 응시한 수험생은 확진을 받았다고 하더라도 시험을 볼 수 있다\"며 \"확진 수험생의 경우 별도로 마련된 고사장에서 시험을 본다\"고 밝혔습니다.,수험생과 수험생 가족은 코로나19 의심 증상이 나타나면 즉시 인근 호흡기환자진료센터에 방문해 신속항원검사를 받아야 합니다.,검사를 받을 때는 검사기관에 본인이 수능 응시생이라는 점을 알려야 합니다.,만약 확진자 중 입원 치료가 필요한 수험생은 별도의 병원 시험장에서 시험을 볼 수 있습니다.,또 격리 대상은 아니지만 수능 당일 2~3차례 체온 검사에서 37.5도 이상 열이 나는 수험생의 경우엔 유증상 수험생으로 분류돼, 일반 시험장에 따로 마련된 분리 시험실에서 시험을 봐야 합니다.,모든 수험생은 마스크를 써야 하고 휴대전화나 블루투스 이어폰 등 전자기기 반입은 금지되는데, 반입 금지 물품을 가지고 들어간 경우 1교시 전 감독관에게 이를 제출해야 합니다.,시계는 전자식 화면 표시나 통신 기능이 있는 것은 모두 사용할 수 없고, 아날로그 시계만 허용됩니다.,점심시간에는 종이 칸막이를 직접 설치한 뒤 식사하면 됩니다.,특히 4교시 탐구 영역 때는 본인이 선택한 과목을 순서대로 응시하면 되는데, 동시에 2과목 문제지를 올리거나 풀면 부정행위로 처리돼 주의해야 합니다.'"
      ]
     },
     "execution_count": 125,
     "metadata": {},
     "output_type": "execute_result"
    }
   ],
   "source": [
    "new_news=[]\n",
    "remover=[\"\\n\",\"\\t\",\"</div>\",\"\\'\"]\n",
    "for i in range(len(contents_text)):\n",
    "    line=contents_text[i].strip()\n",
    "    for j in remover:\n",
    "        line=line.replace(j,\"\")\n",
    "    new_news.append(line)\n",
    "seperator=\",\"\n",
    "seperator.join(new_news)"
   ]
  },
  {
   "cell_type": "code",
   "execution_count": 117,
   "metadata": {},
   "outputs": [],
   "source": [
    "\n",
    "contents_text= [i.text.strip() for i in contents_text]\n"
   ]
  },
  {
   "cell_type": "code",
   "execution_count": 111,
   "metadata": {},
   "outputs": [
    {
     "data": {
      "text/plain": [
       "['2023학년도 대학수학능력시험이 오는 17일 치러지는 가운데, 코로나19에 확진된 수험생은 병원이 아닌 별도 시험장에서 시험을 볼 수 있습니다.',\n",
       " '확진자에 대한 7일의 격리 의무 기간을 고려해 오는 11일 이후 코로나19 확진 판정을 받은 수험생은 지체 없이 관할 교육청에 알려야 수능 응시에 필요한 지원을 받을 수 있습니다.',\n",
       " '당국은 일반 수험생과 분리된 별도 고사장을 마련해 따로 시험을 볼 수 있도록 했습니다.',\n",
       " '임숙영 방역대책본부 상황총괄단장은 오늘(9일) 코로나19 중앙재난안전대책본부 정례 브리핑에서 \"수능에 응시한 수험생은 확진을 받았다고 하더라도 시험을 볼 수 있다\"며 \"확진 수험생의 경우 별도로 마련된 고사장에서 시험을 본다\"고 밝혔습니다.',\n",
       " '수험생과 수험생 가족은 코로나19 의심 증상이 나타나면 즉시 인근 호흡기환자진료센터에 방문해 신속항원검사를 받아야 합니다.',\n",
       " '검사를 받을 때는 검사기관에 본인이 수능 응시생이라는 점을 알려야 합니다.',\n",
       " '만약 확진자 중 입원 치료가 필요한 수험생은 별도의 병원 시험장에서 시험을 볼 수 있습니다.',\n",
       " \"또 격리 대상은 아니지만 수능 당일 2~3차례 체온 검사에서 37.5도 이상 열이 나는 수험생의 경우엔 '유증상 수험생'으로 분류돼, 일반 시험장에 따로 마련된 분리 시험실에서 시험을 봐야 합니다.\",\n",
       " '모든 수험생은 마스크를 써야 하고 휴대전화나 블루투스 이어폰 등 전자기기 반입은 금지되는데, 반입 금지 물품을 가지고 들어간 경우 1교시 전 감독관에게 이를 제출해야 합니다.',\n",
       " '시계는 전자식 화면 표시나 통신 기능이 있는 것은 모두 사용할 수 없고, 아날로그 시계만 허용됩니다.',\n",
       " '점심시간에는 종이 칸막이를 직접 설치한 뒤 식사하면 됩니다.',\n",
       " '특히 4교시 탐구 영역 때는 본인이 선택한 과목을 순서대로 응시하면 되는데, 동시에 2과목 문제지를 올리거나 풀면 부정행위로 처리돼 주의해야 합니다.']"
      ]
     },
     "execution_count": 111,
     "metadata": {},
     "output_type": "execute_result"
    }
   ],
   "source": [
    "contents_text\n"
   ]
  },
  {
   "cell_type": "code",
   "execution_count": 102,
   "metadata": {},
   "outputs": [
    {
     "data": {
      "text/plain": [
       "['2023학년도 대학수학능력시험이 오는 17일 치러지는 가운데, 코로나19에 확진된 수험생은 병원이 아닌 별도 시험장에서 시험을 볼 수 있습니다.',\n",
       " '확진자에 대한 7일의 격리 의무 기간을 고려해 오는 11일 이후 코로나19 확진 판정을 받은 수험생은 지체 없이 관할 교육청에 알려야 수능 응시에 필요한 지원을 받을 수 있습니다.',\n",
       " '당국은 일반 수험생과 분리된 별도 고사장을 마련해 따로 시험을 볼 수 있도록 했습니다.',\n",
       " '임숙영 방역대책본부 상황총괄단장은 오늘(9일) 코로나19 중앙재난안전대책본부 정례 브리핑에서 \"수능에 응시한 수험생은 확진을 받았다고 하더라도 시험을 볼 수 있다\"며 \"확진 수험생의 경우 별도로 마련된 고사장에서 시험을 본다\"고 밝혔습니다.',\n",
       " '수험생과 수험생 가족은 코로나19 의심 증상이 나타나면 즉시 인근 호흡기환자진료센터에 방문해 신속항원검사를 받아야 합니다.',\n",
       " '검사를 받을 때는 검사기관에 본인이 수능 응시생이라는 점을 알려야 합니다.',\n",
       " '만약 확진자 중 입원 치료가 필요한 수험생은 별도의 병원 시험장에서 시험을 볼 수 있습니다.',\n",
       " \"또 격리 대상은 아니지만 수능 당일 2~3차례 체온 검사에서 37.5도 이상 열이 나는 수험생의 경우엔 '유증상 수험생'으로 분류돼, 일반 시험장에 따로 마련된 분리 시험실에서 시험을 봐야 합니다.\",\n",
       " '모든 수험생은 마스크를 써야 하고 휴대전화나 블루투스 이어폰 등 전자기기 반입은 금지되는데, 반입 금지 물품을 가지고 들어간 경우 1교시 전 감독관에게 이를 제출해야 합니다.',\n",
       " '시계는 전자식 화면 표시나 통신 기능이 있는 것은 모두 사용할 수 없고, 아날로그 시계만 허용됩니다.',\n",
       " '점심시간에는 종이 칸막이를 직접 설치한 뒤 식사하면 됩니다.',\n",
       " '특히 4교시 탐구 영역 때는 본인이 선택한 과목을 순서대로 응시하면 되는데, 동시에 2과목 문제지를 올리거나 풀면 부정행위로 처리돼 주의해야 합니다.']"
      ]
     },
     "execution_count": 102,
     "metadata": {},
     "output_type": "execute_result"
    }
   ],
   "source": [
    "daum_text"
   ]
  },
  {
   "cell_type": "code",
   "execution_count": 113,
   "metadata": {},
   "outputs": [
    {
     "data": {
      "text/plain": [
       "'2023학년도 대학수학능력시험이 오는 17일 치러지는 가운데, 코로나19에 확진된 수험생은 병원이 아닌 별도 시험장에서 시험을 볼 수 있습니다.,확진자에 대한 7일의 격리 의무 기간을 고려해 오는 11일 이후 코로나19 확진 판정을 받은 수험생은 지체 없이 관할 교육청에 알려야 수능 응시에 필요한 지원을 받을 수 있습니다.,당국은 일반 수험생과 분리된 별도 고사장을 마련해 따로 시험을 볼 수 있도록 했습니다.,임숙영 방역대책본부 상황총괄단장은 오늘(9일) 코로나19 중앙재난안전대책본부 정례 브리핑에서 \"수능에 응시한 수험생은 확진을 받았다고 하더라도 시험을 볼 수 있다\"며 \"확진 수험생의 경우 별도로 마련된 고사장에서 시험을 본다\"고 밝혔습니다.,수험생과 수험생 가족은 코로나19 의심 증상이 나타나면 즉시 인근 호흡기환자진료센터에 방문해 신속항원검사를 받아야 합니다.,검사를 받을 때는 검사기관에 본인이 수능 응시생이라는 점을 알려야 합니다.,만약 확진자 중 입원 치료가 필요한 수험생은 별도의 병원 시험장에서 시험을 볼 수 있습니다.,또 격리 대상은 아니지만 수능 당일 2~3차례 체온 검사에서 37.5도 이상 열이 나는 수험생의 경우엔 \\'유증상 수험생\\'으로 분류돼, 일반 시험장에 따로 마련된 분리 시험실에서 시험을 봐야 합니다.,모든 수험생은 마스크를 써야 하고 휴대전화나 블루투스 이어폰 등 전자기기 반입은 금지되는데, 반입 금지 물품을 가지고 들어간 경우 1교시 전 감독관에게 이를 제출해야 합니다.,시계는 전자식 화면 표시나 통신 기능이 있는 것은 모두 사용할 수 없고, 아날로그 시계만 허용됩니다.,점심시간에는 종이 칸막이를 직접 설치한 뒤 식사하면 됩니다.,특히 4교시 탐구 영역 때는 본인이 선택한 과목을 순서대로 응시하면 되는데, 동시에 2과목 문제지를 올리거나 풀면 부정행위로 처리돼 주의해야 합니다.'"
      ]
     },
     "execution_count": 113,
     "metadata": {},
     "output_type": "execute_result"
    }
   ],
   "source": [
    "seperator=\",\"\n",
    "seperator.join(contents_text)"
   ]
  },
  {
   "cell_type": "markdown",
   "metadata": {},
   "source": [
    "2023학년도 대학수학능력시험이 오는 17일 치러지는 가운데, 코로나19에 확진된 수험생은 병원이 아닌 별도 시험장에서 시험을 볼 수 있습니다.,확진자에 대한 7일의 격리 의무 기간을 고려해 오는 11일 이후 코로나19 확진 판정을 받은 수험생은 지체 없이 관할 교육청에 알려야 수능 응시에 필요한 지원을 받을 수 있습니다.,당국은 일반 수험생과 분리된 별도 고사장을 마련해 따로 시험을 볼 수 있도록 했습니다.,임숙영 방역대책본부 상황총괄단장은 오늘(9일) 코로나19 중앙재난안전대책본부 정례 브리핑에서 \"수능에 응시한 수험생은 확진을 받았다고 하더라도 시험을 볼 수 있다\"며 \"확진 수험생의 경우 별도로 마련된 고사장에서 시험을 본다\"고 밝혔습니다.,수험생과 수험생 가족은 코로나19 의심 증상이 나타나면 즉시 인근 호흡기환자진료센터에 방문해 신속항원검사를 받아야 합니다.,검사를 받을 때는 검사기관에 본인이 수능 응시생이라는 점을 알려야 합니다.,만약 확진자 중 입원 치료가 필요한 수험생은 별도의 병원 시험장에서 시험을 볼 수 있습니다.,또 격리 대상은 아니지만 수능 당일 2~3차례 체온 검사에서 37.5도 이상 열이 나는 수험생의 경우엔 유증상 수험생으로 분류돼, 일반 시험장에 따로 마련된 분리 시험실에서 시험을 봐야 합니다.,모든 수험생은 마스크를 써야 하고 휴대전화나 블루투스 이어폰 등 전자기기 반입은 금지되는데, 반입 금지 물품을 가지고 들어간 경우 1교시 전 감독관에게 이를 제출해야 합니다.,시계는 전자식 화면 표시나 통신 기능이 있는 것은 모두 사용할 수 없고, 아날로그 시계만 허용됩니다.,점심시간에는 종이 칸막이를 직접 설치한 뒤 식사하면 됩니다.,특히 4교시 탐구 영역 때는 본인이 선택한 과목을 순서대로 응시하면 되는데, 동시에 2과목 문제지를 올리거나 풀면 부정행위로 처리돼 주의해야 합니다.'"
   ]
  },
  {
   "cell_type": "code",
   "execution_count": 66,
   "metadata": {},
   "outputs": [
    {
     "data": {
      "text/plain": [
       "''"
      ]
     },
     "execution_count": 66,
     "metadata": {},
     "output_type": "execute_result"
    }
   ],
   "source": [
    "contents_text = str(soup.select_one(pb.news[1][\"contents\"]))\n",
    "contents_text=[i for i in contents_text.split(\"<br/>\") if len(i) >1 and \"class=\" not in i and \"id=\"not in i and \"span\" not in i and \"strong\" not in i]\n",
    "new_news=[]\n",
    "remover=[\"\\n\",\"\\t\",\"</div>\",\"\\'\"]\n",
    "for i in range(len(contents_text)):\n",
    "    line=contents_text[i].strip()\n",
    "for j in remover:\n",
    "    line=line.replace(j,\"\")\n",
    "new_news.append(line)\n",
    "seperator=\",\"\n",
    "seperator.join(new_news)"
   ]
  },
  {
   "cell_type": "code",
   "execution_count": 2,
   "metadata": {},
   "outputs": [
    {
     "data": {
      "text/html": [
       "<div>\n",
       "<style scoped>\n",
       "    .dataframe tbody tr th:only-of-type {\n",
       "        vertical-align: middle;\n",
       "    }\n",
       "\n",
       "    .dataframe tbody tr th {\n",
       "        vertical-align: top;\n",
       "    }\n",
       "\n",
       "    .dataframe thead th {\n",
       "        text-align: right;\n",
       "    }\n",
       "</style>\n",
       "<table border=\"1\" class=\"dataframe\">\n",
       "  <thead>\n",
       "    <tr style=\"text-align: right;\">\n",
       "      <th></th>\n",
       "      <th>link</th>\n",
       "    </tr>\n",
       "  </thead>\n",
       "  <tbody>\n",
       "    <tr>\n",
       "      <th>0</th>\n",
       "      <td>https://n.news.naver.com/mnews/article/047/000...</td>\n",
       "    </tr>\n",
       "    <tr>\n",
       "      <th>1</th>\n",
       "      <td>https://n.news.naver.com/mnews/article/421/000...</td>\n",
       "    </tr>\n",
       "    <tr>\n",
       "      <th>2</th>\n",
       "      <td>https://n.news.naver.com/mnews/article/277/000...</td>\n",
       "    </tr>\n",
       "    <tr>\n",
       "      <th>3</th>\n",
       "      <td>https://n.news.naver.com/mnews/article/016/000...</td>\n",
       "    </tr>\n",
       "    <tr>\n",
       "      <th>4</th>\n",
       "      <td>https://n.news.naver.com/mnews/article/001/001...</td>\n",
       "    </tr>\n",
       "    <tr>\n",
       "      <th>...</th>\n",
       "      <td>...</td>\n",
       "    </tr>\n",
       "    <tr>\n",
       "      <th>11075</th>\n",
       "      <td>https://n.news.naver.com/mnews/article/001/001...</td>\n",
       "    </tr>\n",
       "    <tr>\n",
       "      <th>11076</th>\n",
       "      <td>https://n.news.naver.com/mnews/article/119/000...</td>\n",
       "    </tr>\n",
       "    <tr>\n",
       "      <th>11077</th>\n",
       "      <td>https://n.news.naver.com/mnews/article/468/000...</td>\n",
       "    </tr>\n",
       "    <tr>\n",
       "      <th>11078</th>\n",
       "      <td>https://n.news.naver.com/mnews/article/018/000...</td>\n",
       "    </tr>\n",
       "    <tr>\n",
       "      <th>11079</th>\n",
       "      <td>https://n.news.naver.com/mnews/article/119/000...</td>\n",
       "    </tr>\n",
       "  </tbody>\n",
       "</table>\n",
       "<p>11080 rows × 1 columns</p>\n",
       "</div>"
      ],
      "text/plain": [
       "                                                    link\n",
       "0      https://n.news.naver.com/mnews/article/047/000...\n",
       "1      https://n.news.naver.com/mnews/article/421/000...\n",
       "2      https://n.news.naver.com/mnews/article/277/000...\n",
       "3      https://n.news.naver.com/mnews/article/016/000...\n",
       "4      https://n.news.naver.com/mnews/article/001/001...\n",
       "...                                                  ...\n",
       "11075  https://n.news.naver.com/mnews/article/001/001...\n",
       "11076  https://n.news.naver.com/mnews/article/119/000...\n",
       "11077  https://n.news.naver.com/mnews/article/468/000...\n",
       "11078  https://n.news.naver.com/mnews/article/018/000...\n",
       "11079  https://n.news.naver.com/mnews/article/119/000...\n",
       "\n",
       "[11080 rows x 1 columns]"
      ]
     },
     "execution_count": 2,
     "metadata": {},
     "output_type": "execute_result"
    }
   ],
   "source": [
    "pd.read_csv(\"./save/links.csv\")"
   ]
  },
  {
   "cell_type": "code",
   "execution_count": 186,
   "metadata": {},
   "outputs": [],
   "source": [
    "sample=pd.read_csv(\"./save/sample.csv\")"
   ]
  },
  {
   "cell_type": "code",
   "execution_count": 187,
   "metadata": {},
   "outputs": [
    {
     "data": {
      "text/html": [
       "<div>\n",
       "<style scoped>\n",
       "    .dataframe tbody tr th:only-of-type {\n",
       "        vertical-align: middle;\n",
       "    }\n",
       "\n",
       "    .dataframe tbody tr th {\n",
       "        vertical-align: top;\n",
       "    }\n",
       "\n",
       "    .dataframe thead th {\n",
       "        text-align: right;\n",
       "    }\n",
       "</style>\n",
       "<table border=\"1\" class=\"dataframe\">\n",
       "  <thead>\n",
       "    <tr style=\"text-align: right;\">\n",
       "      <th></th>\n",
       "      <th>title</th>\n",
       "      <th>content</th>\n",
       "    </tr>\n",
       "  </thead>\n",
       "  <tbody>\n",
       "    <tr>\n",
       "      <th>0</th>\n",
       "      <td>\"이태원 참사... 지자체 행사도 이렇게는 안 할 거예요\"</td>\n",
       "      <td>['“농민수당을 만든 사람”, “우리를 위해 밥도 굶어준 사람” “배지 없이도 구의...</td>\n",
       "    </tr>\n",
       "    <tr>\n",
       "      <th>1</th>\n",
       "      <td>한·뉴질랜드 태평양 대화 \"기후변화 등 협력 파트너\"</td>\n",
       "      <td>[\"(서울=뉴스1) 이창규 기자 = 우리나라와 뉴질랜드 외교당국이 8일 '한·뉴질랜...</td>\n",
       "    </tr>\n",
       "    <tr>\n",
       "      <th>2</th>\n",
       "      <td>[속보]대통령실 \"종부세 부담 줄이는 다양한 방안 논의, 실천\"</td>\n",
       "      <td>['\\n&lt;/div&gt;']</td>\n",
       "    </tr>\n",
       "    <tr>\n",
       "      <th>3</th>\n",
       "      <td>[단독]“이태원 대응 복지부 직원 동원 여론 심상찮아”…조규홍 “가시적 조치”</td>\n",
       "      <td>['[헤럴드경제=이상섭 기자] 조규홍 보건복지부 장관이 복지부 직원으로 추정되는 인...</td>\n",
       "    </tr>\n",
       "    <tr>\n",
       "      <th>4</th>\n",
       "      <td>대법 \"공수처의 김웅 의원실 압수수색은 위법\"(종합)</td>\n",
       "      <td>['공수처 \"참여권 범위 넓힌 선례로 이해…재판에는 영향 없어\"&lt;/strong&gt;',...</td>\n",
       "    </tr>\n",
       "    <tr>\n",
       "      <th>5</th>\n",
       "      <td>한덕수·이상민·윤희근 \"책임 회피할 생각 없지만…\"</td>\n",
       "      <td>[\"한덕수 국무총리와 이상민 행정안전부 장관이 이태원 참사와 관련해 야당의 사퇴 압...</td>\n",
       "    </tr>\n",
       "    <tr>\n",
       "      <th>6</th>\n",
       "      <td>[10.29 참사] 윤건영 \"왜 4시간 동안 쳐다만 보고 있었냐?\"…\"대통령이 경찰...</td>\n",
       "      <td>['박지원 \"윤 대통령 4시간 동안 뭐하셨나?…국가위기관리센터 잘 작동했나?\"', ...</td>\n",
       "    </tr>\n",
       "    <tr>\n",
       "      <th>7</th>\n",
       "      <td>[영상] 러, 최신 핵잠수함 성능 시험 완료…태평양함대 배치 예정</td>\n",
       "      <td>['    보도에 따르면 세브마슈 조선소 미하일 부드니첸코 최고경영자(CEO)는 이...</td>\n",
       "    </tr>\n",
       "    <tr>\n",
       "      <th>8</th>\n",
       "      <td>이재명, 오열하는 이태원 유족 손잡고 \"미안하다, 죄송하다\"</td>\n",
       "      <td>['이재명 더불어민주당 대표는 8일 서울 용산구 이태원 파출소를 찾아 사고 당시 현...</td>\n",
       "    </tr>\n",
       "    <tr>\n",
       "      <th>9</th>\n",
       "      <td>[이태원 참사] 野 \"한덕수·이상민 책임\" vs 與 \"경찰, 사상누각\"</td>\n",
       "      <td>[\"與, '정부 책임론' 선 긋기…제도 미비 지적&lt;/strong&gt;\", '(서울=연합...</td>\n",
       "    </tr>\n",
       "  </tbody>\n",
       "</table>\n",
       "</div>"
      ],
      "text/plain": [
       "                                               title  \\\n",
       "0                   \"이태원 참사... 지자체 행사도 이렇게는 안 할 거예요\"   \n",
       "1                      한·뉴질랜드 태평양 대화 \"기후변화 등 협력 파트너\"   \n",
       "2                [속보]대통령실 \"종부세 부담 줄이는 다양한 방안 논의, 실천\"   \n",
       "3        [단독]“이태원 대응 복지부 직원 동원 여론 심상찮아”…조규홍 “가시적 조치”   \n",
       "4                      대법 \"공수처의 김웅 의원실 압수수색은 위법\"(종합)   \n",
       "5                       한덕수·이상민·윤희근 \"책임 회피할 생각 없지만…\"   \n",
       "6  [10.29 참사] 윤건영 \"왜 4시간 동안 쳐다만 보고 있었냐?\"…\"대통령이 경찰...   \n",
       "7               [영상] 러, 최신 핵잠수함 성능 시험 완료…태평양함대 배치 예정   \n",
       "8                  이재명, 오열하는 이태원 유족 손잡고 \"미안하다, 죄송하다\"   \n",
       "9            [이태원 참사] 野 \"한덕수·이상민 책임\" vs 與 \"경찰, 사상누각\"   \n",
       "\n",
       "                                             content  \n",
       "0  ['“농민수당을 만든 사람”, “우리를 위해 밥도 굶어준 사람” “배지 없이도 구의...  \n",
       "1  [\"(서울=뉴스1) 이창규 기자 = 우리나라와 뉴질랜드 외교당국이 8일 '한·뉴질랜...  \n",
       "2                                       ['\\n</div>']  \n",
       "3  ['[헤럴드경제=이상섭 기자] 조규홍 보건복지부 장관이 복지부 직원으로 추정되는 인...  \n",
       "4  ['공수처 \"참여권 범위 넓힌 선례로 이해…재판에는 영향 없어\"</strong>',...  \n",
       "5  [\"한덕수 국무총리와 이상민 행정안전부 장관이 이태원 참사와 관련해 야당의 사퇴 압...  \n",
       "6  ['박지원 \"윤 대통령 4시간 동안 뭐하셨나?…국가위기관리센터 잘 작동했나?\"', ...  \n",
       "7  ['    보도에 따르면 세브마슈 조선소 미하일 부드니첸코 최고경영자(CEO)는 이...  \n",
       "8  ['이재명 더불어민주당 대표는 8일 서울 용산구 이태원 파출소를 찾아 사고 당시 현...  \n",
       "9  [\"與, '정부 책임론' 선 긋기…제도 미비 지적</strong>\", '(서울=연합...  "
      ]
     },
     "execution_count": 187,
     "metadata": {},
     "output_type": "execute_result"
    }
   ],
   "source": [
    "sample"
   ]
  },
  {
   "cell_type": "code",
   "execution_count": 1,
   "metadata": {},
   "outputs": [],
   "source": [
    "url=\"https://v.daum.net/v/20221109151504839\""
   ]
  },
  {
   "cell_type": "code",
   "execution_count": 3,
   "metadata": {},
   "outputs": [],
   "source": [
    "\n",
    "headers = {\"user-agent\": \"Mozilla/5.0 (Macintosh; Intel Mac OS X 10_15_5) AppleWebKit/537.36 (KHTML, like Gecko) Chrome/84.0.4147.89 Safari/537.36\"}\n",
    "req = requests.get(url,headers=headers)\n",
    "html=req.text\n",
    "soup = bs(html, 'html.parser')\n"
   ]
  },
  {
   "cell_type": "code",
   "execution_count": 4,
   "metadata": {},
   "outputs": [],
   "source": [
    "temp_time=soup.select_one(\".num_date\").text+\":00\"\n",
    "date_time_str = temp_time\n",
    "date_time_obj = datetime.strptime(date_time_str, '%Y. %m. %d. %H:%M:%S')\n",
    "time=date_time_obj.strftime(\"%Y-%m-%d %H:%M:%S\")\n",
    "\n"
   ]
  },
  {
   "cell_type": "code",
   "execution_count": 9,
   "metadata": {},
   "outputs": [
    {
     "data": {
      "text/plain": [
       "datetime.datetime"
      ]
     },
     "execution_count": 9,
     "metadata": {},
     "output_type": "execute_result"
    }
   ],
   "source": [
    "type(date_time_obj)"
   ]
  },
  {
   "cell_type": "code",
   "execution_count": 10,
   "metadata": {},
   "outputs": [
    {
     "name": "stdout",
     "output_type": "stream",
     "text": [
      "2022-11-09 15:15:00\n"
     ]
    }
   ],
   "source": [
    "print(date_time_obj)"
   ]
  },
  {
   "cell_type": "code",
   "execution_count": 176,
   "metadata": {},
   "outputs": [],
   "source": [
    "import datetime\n",
    "\n",
    "date_time_str = temp_time\n",
    "date_time_obj = datetime.datetime.strptime(date_time_str, '%Y. %m. %d. %H:%M:%S')\n"
   ]
  },
  {
   "cell_type": "code",
   "execution_count": 181,
   "metadata": {},
   "outputs": [
    {
     "data": {
      "text/plain": [
       "'2022-11-09 15:15:00'"
      ]
     },
     "execution_count": 181,
     "metadata": {},
     "output_type": "execute_result"
    }
   ],
   "source": [
    "date_time_obj.strftime(\"%Y-%m-%d %H:%M:%S\")"
   ]
  },
  {
   "cell_type": "code",
   "execution_count": 56,
   "metadata": {},
   "outputs": [
    {
     "ename": "AttributeError",
     "evalue": "'NoneType' object has no attribute 'get'",
     "output_type": "error",
     "traceback": [
      "\u001b[0;31m---------------------------------------------------------------------------\u001b[0m",
      "\u001b[0;31mAttributeError\u001b[0m                            Traceback (most recent call last)",
      "Cell \u001b[0;32mIn [56], line 1\u001b[0m\n\u001b[0;32m----> 1\u001b[0m naver_press\u001b[39m=\u001b[39msoup\u001b[39m.\u001b[39;49mselect_one(\u001b[39m\"\u001b[39;49m\u001b[39m.media_end_head_top_logo_img\u001b[39;49m\u001b[39m\"\u001b[39;49m)\u001b[39m.\u001b[39;49mget(\u001b[39m\"\u001b[39m\u001b[39mtitle\u001b[39m\u001b[39m\"\u001b[39m)\n\u001b[1;32m      2\u001b[0m naver_thumbnail\u001b[39m=\u001b[39msoup\u001b[39m.\u001b[39mselect_one(\u001b[39m\"\u001b[39m\u001b[39m#img1\u001b[39m\u001b[39m\"\u001b[39m)\u001b[39m.\u001b[39mget(\u001b[39m\"\u001b[39m\u001b[39mdata-src\u001b[39m\u001b[39m\"\u001b[39m)\n\u001b[1;32m      3\u001b[0m naver_time \u001b[39m=\u001b[39m soup\u001b[39m.\u001b[39mselect_one(\u001b[39m\"\u001b[39m\u001b[39m.media_end_head_info_datestamp_time\u001b[39m\u001b[39m\"\u001b[39m)\u001b[39m.\u001b[39mtext\n",
      "\u001b[0;31mAttributeError\u001b[0m: 'NoneType' object has no attribute 'get'"
     ]
    }
   ],
   "source": [
    "naver_press=soup.select_one(\".media_end_head_top_logo_img\").get(\"title\")\n",
    "naver_thumbnail=soup.select_one(\"#img1\").get(\"data-src\")\n",
    "naver_time = soup.select_one(\".media_end_head_info_datestamp_time\").text\n",
    "naver_reporter = soup.select_one(\".media_end_head_journalist_name\").text"
   ]
  },
  {
   "cell_type": "code",
   "execution_count": 57,
   "metadata": {},
   "outputs": [],
   "source": [
    "daum_press=soup.select_one(\"#kakaoServiceLogo\").get(\"data-tiara\")\n",
    "daum_thumbnail=soup.select_one(\".thumb_g_article\").get(\"src\")\n",
    "daum_time=soup.select_one(\".info_view > span:nth-child(2)\").text\n",
    "daum_reporter=soup.select_one(\".info_view > span:first-child\").text"
   ]
  }
 ],
 "metadata": {
  "kernelspec": {
   "display_name": "Python 3.11.0 ('tensorflow')",
   "language": "python",
   "name": "python3"
  },
  "language_info": {
   "codemirror_mode": {
    "name": "ipython",
    "version": 3
   },
   "file_extension": ".py",
   "mimetype": "text/x-python",
   "name": "python",
   "nbconvert_exporter": "python",
   "pygments_lexer": "ipython3",
   "version": "3.11.0"
  },
  "orig_nbformat": 4,
  "vscode": {
   "interpreter": {
    "hash": "4bd624a0593993fe43ac4046b27b898fb2ef75c21c08f81e89e64ea0f51df676"
   }
  }
 },
 "nbformat": 4,
 "nbformat_minor": 2
}
