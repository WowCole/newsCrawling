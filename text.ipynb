{
 "cells": [
  {
   "cell_type": "code",
   "execution_count": 74,
   "metadata": {},
   "outputs": [],
   "source": [
    "import pandas as pd\n",
    "import os\n",
    "import requests\n",
    "from datetime import datetime, timedelta\n",
    "import requests\n",
    "from bs4 import BeautifulSoup as bs\n",
    "import data.publisher as pb\n",
    "import data.temp as temp\n",
    "import json"
   ]
  },
  {
   "cell_type": "code",
   "execution_count": 2,
   "metadata": {},
   "outputs": [
    {
     "data": {
      "text/html": [
       "<div>\n",
       "<style scoped>\n",
       "    .dataframe tbody tr th:only-of-type {\n",
       "        vertical-align: middle;\n",
       "    }\n",
       "\n",
       "    .dataframe tbody tr th {\n",
       "        vertical-align: top;\n",
       "    }\n",
       "\n",
       "    .dataframe thead th {\n",
       "        text-align: right;\n",
       "    }\n",
       "</style>\n",
       "<table border=\"1\" class=\"dataframe\">\n",
       "  <thead>\n",
       "    <tr style=\"text-align: right;\">\n",
       "      <th></th>\n",
       "      <th>link</th>\n",
       "    </tr>\n",
       "  </thead>\n",
       "  <tbody>\n",
       "    <tr>\n",
       "      <th>0</th>\n",
       "      <td>https://n.news.naver.com/mnews/article/047/000...</td>\n",
       "    </tr>\n",
       "    <tr>\n",
       "      <th>1</th>\n",
       "      <td>https://n.news.naver.com/mnews/article/421/000...</td>\n",
       "    </tr>\n",
       "    <tr>\n",
       "      <th>2</th>\n",
       "      <td>https://n.news.naver.com/mnews/article/277/000...</td>\n",
       "    </tr>\n",
       "    <tr>\n",
       "      <th>3</th>\n",
       "      <td>https://n.news.naver.com/mnews/article/016/000...</td>\n",
       "    </tr>\n",
       "    <tr>\n",
       "      <th>4</th>\n",
       "      <td>https://n.news.naver.com/mnews/article/001/001...</td>\n",
       "    </tr>\n",
       "    <tr>\n",
       "      <th>...</th>\n",
       "      <td>...</td>\n",
       "    </tr>\n",
       "    <tr>\n",
       "      <th>11075</th>\n",
       "      <td>https://n.news.naver.com/mnews/article/001/001...</td>\n",
       "    </tr>\n",
       "    <tr>\n",
       "      <th>11076</th>\n",
       "      <td>https://n.news.naver.com/mnews/article/119/000...</td>\n",
       "    </tr>\n",
       "    <tr>\n",
       "      <th>11077</th>\n",
       "      <td>https://n.news.naver.com/mnews/article/468/000...</td>\n",
       "    </tr>\n",
       "    <tr>\n",
       "      <th>11078</th>\n",
       "      <td>https://n.news.naver.com/mnews/article/018/000...</td>\n",
       "    </tr>\n",
       "    <tr>\n",
       "      <th>11079</th>\n",
       "      <td>https://n.news.naver.com/mnews/article/119/000...</td>\n",
       "    </tr>\n",
       "  </tbody>\n",
       "</table>\n",
       "<p>11080 rows × 1 columns</p>\n",
       "</div>"
      ],
      "text/plain": [
       "                                                    link\n",
       "0      https://n.news.naver.com/mnews/article/047/000...\n",
       "1      https://n.news.naver.com/mnews/article/421/000...\n",
       "2      https://n.news.naver.com/mnews/article/277/000...\n",
       "3      https://n.news.naver.com/mnews/article/016/000...\n",
       "4      https://n.news.naver.com/mnews/article/001/001...\n",
       "...                                                  ...\n",
       "11075  https://n.news.naver.com/mnews/article/001/001...\n",
       "11076  https://n.news.naver.com/mnews/article/119/000...\n",
       "11077  https://n.news.naver.com/mnews/article/468/000...\n",
       "11078  https://n.news.naver.com/mnews/article/018/000...\n",
       "11079  https://n.news.naver.com/mnews/article/119/000...\n",
       "\n",
       "[11080 rows x 1 columns]"
      ]
     },
     "execution_count": 2,
     "metadata": {},
     "output_type": "execute_result"
    }
   ],
   "source": [
    "pd.read_csv(\"./save/links.csv\")"
   ]
  },
  {
   "cell_type": "code",
   "execution_count": 186,
   "metadata": {},
   "outputs": [],
   "source": [
    "sample=pd.read_csv(\"./save/sample.csv\")"
   ]
  },
  {
   "cell_type": "code",
   "execution_count": 187,
   "metadata": {},
   "outputs": [
    {
     "data": {
      "text/html": [
       "<div>\n",
       "<style scoped>\n",
       "    .dataframe tbody tr th:only-of-type {\n",
       "        vertical-align: middle;\n",
       "    }\n",
       "\n",
       "    .dataframe tbody tr th {\n",
       "        vertical-align: top;\n",
       "    }\n",
       "\n",
       "    .dataframe thead th {\n",
       "        text-align: right;\n",
       "    }\n",
       "</style>\n",
       "<table border=\"1\" class=\"dataframe\">\n",
       "  <thead>\n",
       "    <tr style=\"text-align: right;\">\n",
       "      <th></th>\n",
       "      <th>title</th>\n",
       "      <th>content</th>\n",
       "    </tr>\n",
       "  </thead>\n",
       "  <tbody>\n",
       "    <tr>\n",
       "      <th>0</th>\n",
       "      <td>\"이태원 참사... 지자체 행사도 이렇게는 안 할 거예요\"</td>\n",
       "      <td>['“농민수당을 만든 사람”, “우리를 위해 밥도 굶어준 사람” “배지 없이도 구의...</td>\n",
       "    </tr>\n",
       "    <tr>\n",
       "      <th>1</th>\n",
       "      <td>한·뉴질랜드 태평양 대화 \"기후변화 등 협력 파트너\"</td>\n",
       "      <td>[\"(서울=뉴스1) 이창규 기자 = 우리나라와 뉴질랜드 외교당국이 8일 '한·뉴질랜...</td>\n",
       "    </tr>\n",
       "    <tr>\n",
       "      <th>2</th>\n",
       "      <td>[속보]대통령실 \"종부세 부담 줄이는 다양한 방안 논의, 실천\"</td>\n",
       "      <td>['\\n&lt;/div&gt;']</td>\n",
       "    </tr>\n",
       "    <tr>\n",
       "      <th>3</th>\n",
       "      <td>[단독]“이태원 대응 복지부 직원 동원 여론 심상찮아”…조규홍 “가시적 조치”</td>\n",
       "      <td>['[헤럴드경제=이상섭 기자] 조규홍 보건복지부 장관이 복지부 직원으로 추정되는 인...</td>\n",
       "    </tr>\n",
       "    <tr>\n",
       "      <th>4</th>\n",
       "      <td>대법 \"공수처의 김웅 의원실 압수수색은 위법\"(종합)</td>\n",
       "      <td>['공수처 \"참여권 범위 넓힌 선례로 이해…재판에는 영향 없어\"&lt;/strong&gt;',...</td>\n",
       "    </tr>\n",
       "    <tr>\n",
       "      <th>5</th>\n",
       "      <td>한덕수·이상민·윤희근 \"책임 회피할 생각 없지만…\"</td>\n",
       "      <td>[\"한덕수 국무총리와 이상민 행정안전부 장관이 이태원 참사와 관련해 야당의 사퇴 압...</td>\n",
       "    </tr>\n",
       "    <tr>\n",
       "      <th>6</th>\n",
       "      <td>[10.29 참사] 윤건영 \"왜 4시간 동안 쳐다만 보고 있었냐?\"…\"대통령이 경찰...</td>\n",
       "      <td>['박지원 \"윤 대통령 4시간 동안 뭐하셨나?…국가위기관리센터 잘 작동했나?\"', ...</td>\n",
       "    </tr>\n",
       "    <tr>\n",
       "      <th>7</th>\n",
       "      <td>[영상] 러, 최신 핵잠수함 성능 시험 완료…태평양함대 배치 예정</td>\n",
       "      <td>['    보도에 따르면 세브마슈 조선소 미하일 부드니첸코 최고경영자(CEO)는 이...</td>\n",
       "    </tr>\n",
       "    <tr>\n",
       "      <th>8</th>\n",
       "      <td>이재명, 오열하는 이태원 유족 손잡고 \"미안하다, 죄송하다\"</td>\n",
       "      <td>['이재명 더불어민주당 대표는 8일 서울 용산구 이태원 파출소를 찾아 사고 당시 현...</td>\n",
       "    </tr>\n",
       "    <tr>\n",
       "      <th>9</th>\n",
       "      <td>[이태원 참사] 野 \"한덕수·이상민 책임\" vs 與 \"경찰, 사상누각\"</td>\n",
       "      <td>[\"與, '정부 책임론' 선 긋기…제도 미비 지적&lt;/strong&gt;\", '(서울=연합...</td>\n",
       "    </tr>\n",
       "  </tbody>\n",
       "</table>\n",
       "</div>"
      ],
      "text/plain": [
       "                                               title  \\\n",
       "0                   \"이태원 참사... 지자체 행사도 이렇게는 안 할 거예요\"   \n",
       "1                      한·뉴질랜드 태평양 대화 \"기후변화 등 협력 파트너\"   \n",
       "2                [속보]대통령실 \"종부세 부담 줄이는 다양한 방안 논의, 실천\"   \n",
       "3        [단독]“이태원 대응 복지부 직원 동원 여론 심상찮아”…조규홍 “가시적 조치”   \n",
       "4                      대법 \"공수처의 김웅 의원실 압수수색은 위법\"(종합)   \n",
       "5                       한덕수·이상민·윤희근 \"책임 회피할 생각 없지만…\"   \n",
       "6  [10.29 참사] 윤건영 \"왜 4시간 동안 쳐다만 보고 있었냐?\"…\"대통령이 경찰...   \n",
       "7               [영상] 러, 최신 핵잠수함 성능 시험 완료…태평양함대 배치 예정   \n",
       "8                  이재명, 오열하는 이태원 유족 손잡고 \"미안하다, 죄송하다\"   \n",
       "9            [이태원 참사] 野 \"한덕수·이상민 책임\" vs 與 \"경찰, 사상누각\"   \n",
       "\n",
       "                                             content  \n",
       "0  ['“농민수당을 만든 사람”, “우리를 위해 밥도 굶어준 사람” “배지 없이도 구의...  \n",
       "1  [\"(서울=뉴스1) 이창규 기자 = 우리나라와 뉴질랜드 외교당국이 8일 '한·뉴질랜...  \n",
       "2                                       ['\\n</div>']  \n",
       "3  ['[헤럴드경제=이상섭 기자] 조규홍 보건복지부 장관이 복지부 직원으로 추정되는 인...  \n",
       "4  ['공수처 \"참여권 범위 넓힌 선례로 이해…재판에는 영향 없어\"</strong>',...  \n",
       "5  [\"한덕수 국무총리와 이상민 행정안전부 장관이 이태원 참사와 관련해 야당의 사퇴 압...  \n",
       "6  ['박지원 \"윤 대통령 4시간 동안 뭐하셨나?…국가위기관리센터 잘 작동했나?\"', ...  \n",
       "7  ['    보도에 따르면 세브마슈 조선소 미하일 부드니첸코 최고경영자(CEO)는 이...  \n",
       "8  ['이재명 더불어민주당 대표는 8일 서울 용산구 이태원 파출소를 찾아 사고 당시 현...  \n",
       "9  [\"與, '정부 책임론' 선 긋기…제도 미비 지적</strong>\", '(서울=연합...  "
      ]
     },
     "execution_count": 187,
     "metadata": {},
     "output_type": "execute_result"
    }
   ],
   "source": [
    "sample"
   ]
  },
  {
   "cell_type": "code",
   "execution_count": 36,
   "metadata": {},
   "outputs": [],
   "source": [
    "url=\"https://news.daum.net\""
   ]
  },
  {
   "cell_type": "code",
   "execution_count": 37,
   "metadata": {},
   "outputs": [],
   "source": [
    "\n",
    "headers = {\"user-agent\": \"Mozilla/5.0 (Macintosh; Intel Mac OS X 10_15_5) AppleWebKit/537.36 (KHTML, like Gecko) Chrome/84.0.4147.89 Safari/537.36\"}\n",
    "req = requests.get(url,headers=headers)\n",
    "html=req.text\n",
    "soup = bs(html, 'html.parser')\n"
   ]
  },
  {
   "cell_type": "code",
   "execution_count": 72,
   "metadata": {},
   "outputs": [],
   "source": [
    "link=soup.select(\".item_issue > a\")[0].get(\"href\")\n",
    "thumbnail=soup.select(\".item_issue > a >img\")[0].get(\"src\")\n",
    "category=soup.select(\".txt_category\")[0].text\n",
    "title=soup.select(\".link_txt\")[0].text.strip()"
   ]
  },
  {
   "cell_type": "code",
   "execution_count": 73,
   "metadata": {},
   "outputs": [
    {
     "data": {
      "text/plain": [
       "'YTN, 지분 매각 통한 민영화 수순에 주가 급등'"
      ]
     },
     "execution_count": 73,
     "metadata": {},
     "output_type": "execute_result"
    }
   ],
   "source": [
    "title"
   ]
  },
  {
   "cell_type": "code",
   "execution_count": 71,
   "metadata": {},
   "outputs": [
    {
     "data": {
      "text/plain": [
       "'YTN, 지분 매각 통한 민영화 수순에 주가 급등'"
      ]
     },
     "execution_count": 71,
     "metadata": {},
     "output_type": "execute_result"
    }
   ],
   "source": [
    "title.strip()"
   ]
  },
  {
   "cell_type": "code",
   "execution_count": 15,
   "metadata": {},
   "outputs": [
    {
     "ename": "AttributeError",
     "evalue": "ResultSet object has no attribute 'select_one'. You're probably treating a list of elements like a single element. Did you call find_all() when you meant to call find()?",
     "output_type": "error",
     "traceback": [
      "\u001b[0;31m---------------------------------------------------------------------------\u001b[0m",
      "\u001b[0;31mAttributeError\u001b[0m                            Traceback (most recent call last)",
      "Cell \u001b[0;32mIn [15], line 1\u001b[0m\n\u001b[0;32m----> 1\u001b[0m soup_1\u001b[39m.\u001b[39;49mselect_one(\u001b[39m\"\u001b[39m\u001b[39ma\u001b[39m\u001b[39m\"\u001b[39m)\n",
      "File \u001b[0;32m/opt/homebrew/Caskroom/miniforge/base/envs/tensorflow/lib/python3.11/site-packages/bs4/element.py:2289\u001b[0m, in \u001b[0;36mResultSet.__getattr__\u001b[0;34m(self, key)\u001b[0m\n\u001b[1;32m   2287\u001b[0m \u001b[39mdef\u001b[39;00m \u001b[39m__getattr__\u001b[39m(\u001b[39mself\u001b[39m, key):\n\u001b[1;32m   2288\u001b[0m     \u001b[39m\"\"\"Raise a helpful exception to explain a common code fix.\"\"\"\u001b[39;00m\n\u001b[0;32m-> 2289\u001b[0m     \u001b[39mraise\u001b[39;00m \u001b[39mAttributeError\u001b[39;00m(\n\u001b[1;32m   2290\u001b[0m         \u001b[39m\"\u001b[39m\u001b[39mResultSet object has no attribute \u001b[39m\u001b[39m'\u001b[39m\u001b[39m%s\u001b[39;00m\u001b[39m'\u001b[39m\u001b[39m. You\u001b[39m\u001b[39m'\u001b[39m\u001b[39mre probably treating a list of elements like a single element. Did you call find_all() when you meant to call find()?\u001b[39m\u001b[39m\"\u001b[39m \u001b[39m%\u001b[39m key\n\u001b[1;32m   2291\u001b[0m     )\n",
      "\u001b[0;31mAttributeError\u001b[0m: ResultSet object has no attribute 'select_one'. You're probably treating a list of elements like a single element. Did you call find_all() when you meant to call find()?"
     ]
    }
   ],
   "source": [
    "body > div.container-doc > main > section > div > div.content-article > div.box_g.box_news_issue > ul > li:nth-child(1) > div > a"
   ]
  },
  {
   "cell_type": "code",
   "execution_count": 83,
   "metadata": {},
   "outputs": [],
   "source": [
    "with open(\"./save/dailyCrawling.json\", \"r\") as json_file:\n",
    "    json_data = json.load(json_file)"
   ]
  },
  {
   "cell_type": "code",
   "execution_count": 84,
   "metadata": {},
   "outputs": [
    {
     "data": {
      "text/plain": [
       "'BOE 수석 이코노미스트 \"펜데믹 양적완화는 실수였다\"···공급확대 정책 실수 인정'"
      ]
     },
     "execution_count": 84,
     "metadata": {},
     "output_type": "execute_result"
    }
   ],
   "source": []
  },
  {
   "cell_type": "code",
   "execution_count": 105,
   "metadata": {},
   "outputs": [],
   "source": [
    "import urllib.request\n",
    "from bs4 import BeautifulSoup\n",
    "import os\n",
    "from importlib.resources import read_text\n",
    "import requests\n",
    "import data.tools as tools\n",
    "#네이버 기사 혹은 다음 기사 링크 인풋\n",
    "news=tools.get_title_contents(input())"
   ]
  },
  {
   "cell_type": "code",
   "execution_count": null,
   "metadata": {},
   "outputs": [],
   "source": []
  },
  {
   "cell_type": "markdown",
   "metadata": {},
   "source": []
  },
  {
   "cell_type": "code",
   "execution_count": 148,
   "metadata": {},
   "outputs": [],
   "source": [
    "new_news=[]\n",
    "remover=[\"\\n\",\"\\t\",\"</div>\",\"\\'\"]\n",
    "for i in range(len(news[1])):\n",
    "    line=news[1][i].strip()\n",
    "    for j in remover:\n",
    "        line=line.replace(j,\"\")\n",
    "    new_news.append(line)\n",
    "\n",
    "seperator=\",\"\n",
    "seperator.join(new_news)\n"
   ]
  },
  {
   "cell_type": "code",
   "execution_count": 150,
   "metadata": {},
   "outputs": [
    {
     "data": {
      "text/plain": [
       "'(서울=뉴스1) 이창규 기자 = 우리나라와 뉴질랜드 외교당국이 8일 한·뉴질랜드 태평양 대화를 열어 태평양 정세와 대(對)태평양 도서국 정책 및 개발협력 등에 대해 논의했다.,외교부에 따르면 서민정 아시아·태평양국 심의관과 조너선 오스틴 뉴질랜드 외교부 태평양국장은 이날 대화에서 \"한국과 뉴질랜드는 인도·태평양 지역의 자유·평화·번영을 위해 함께 기여할 수 있는 파트너\"라며 태평양 지역에서 양국이 협력할 수 있는 분야를 모색해가가기로 했다.,서 심의관은 특히 \"한국 정부는 글로벌 중추 국가 비전에 따라 태평양 도서국과의 관계 강화를 중시하고 있다\"며 \"2050 푸른태평양대륙 전략 실현에도 기여할 수 있도록 태평양 도서국과의 협력을 확대해 나갈 예정\"이라고 소개했다.,2050 푸른태평양대륙 전략은 지난 7월 태평양도서국포럼(PIF) 정상회의에서 공식 채택된 것으로 태평양 지역의 장기 개발 비전과 중점 분야 등을 담고 있다. 여기엔 △정치적 리더십과 지역주의 △사람 중심 개발 △평화·안보 △기후변화·재난 △해양·환경 △자원·경제개발 △기술·연결성 등이 포함된다.,오스틴 국장도 보건 시스템 강화와 기후변화 대응 등에서 우리 정부와 협력하고자 한다고 밝혔다.'"
      ]
     },
     "execution_count": 150,
     "metadata": {},
     "output_type": "execute_result"
    }
   ],
   "source": [
    "seperator=\",\"\n",
    "seperator.join(new_news)"
   ]
  },
  {
   "cell_type": "code",
   "execution_count": 142,
   "metadata": {},
   "outputs": [
    {
     "ename": "NameError",
     "evalue": "name 'old_string' is not defined",
     "output_type": "error",
     "traceback": [
      "\u001b[0;31m---------------------------------------------------------------------------\u001b[0m",
      "\u001b[0;31mNameError\u001b[0m                                 Traceback (most recent call last)",
      "Cell \u001b[0;32mIn [142], line 1\u001b[0m\n\u001b[0;32m----> 1\u001b[0m new_news[\u001b[39m2\u001b[39m]\u001b[39m.\u001b[39mreplace(\u001b[39m\"\u001b[39m\u001b[39m\\\\\u001b[39;00m\u001b[39m\\\\\u001b[39;00m\u001b[39m\"\u001b[39m,\u001b[39m\"\u001b[39m\u001b[39m\"\u001b[39m,old_string)\n",
      "\u001b[0;31mNameError\u001b[0m: name 'old_string' is not defined"
     ]
    }
   ],
   "source": []
  },
  {
   "cell_type": "code",
   "execution_count": null,
   "metadata": {},
   "outputs": [],
   "source": []
  }
 ],
 "metadata": {
  "kernelspec": {
   "display_name": "Python 3.11.0 ('tensorflow')",
   "language": "python",
   "name": "python3"
  },
  "language_info": {
   "codemirror_mode": {
    "name": "ipython",
    "version": 3
   },
   "file_extension": ".py",
   "mimetype": "text/x-python",
   "name": "python",
   "nbconvert_exporter": "python",
   "pygments_lexer": "ipython3",
   "version": "3.11.0"
  },
  "orig_nbformat": 4,
  "vscode": {
   "interpreter": {
    "hash": "4bd624a0593993fe43ac4046b27b898fb2ef75c21c08f81e89e64ea0f51df676"
   }
  }
 },
 "nbformat": 4,
 "nbformat_minor": 2
}
